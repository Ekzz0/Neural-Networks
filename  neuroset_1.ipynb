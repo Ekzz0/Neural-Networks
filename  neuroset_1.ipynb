{
 "cells": [
  {
   "cell_type": "markdown",
   "id": "0ba048a6-ac80-470f-a45a-3544e4043279",
   "metadata": {},
   "source": [
    "Перевод градусов Цельсия в градусы Фарингейта"
   ]
  },
  {
   "cell_type": "code",
   "execution_count": 7,
   "id": "47d76670-12a1-48dc-b919-98261bb195e5",
   "metadata": {},
   "outputs": [],
   "source": [
    "import os\n",
    "os.environ['TF_CPP_MIN_LOG_LEVEL'] = '2'\n",
    "\n",
    "import numpy as np\n",
    "import matplotlib.pyplot as plt\n",
    "from tensorflow import keras\n",
    "from tensorflow.keras.layers import Dense"
   ]
  },
  {
   "cell_type": "markdown",
   "id": "3f7b31f8-3e38-4d5b-b222-4d4e88efc6a9",
   "metadata": {},
   "source": [
    "Обучающая выборка"
   ]
  },
  {
   "cell_type": "code",
   "execution_count": 15,
   "id": "87114f03-1cad-4a49-b1b0-3c34c42d5a24",
   "metadata": {},
   "outputs": [
    {
     "name": "stdout",
     "output_type": "stream",
     "text": [
      "Обучение завершено\n"
     ]
    },
    {
     "data": {
      "image/png": "[encoded data removed]",
      "text/plain": [
       "<Figure size 432x288 with 1 Axes>"
      ]
     },
     "metadata": {
      "needs_background": "light"
     },
     "output_type": "display_data"
    }
   ],
   "source": [
    "c = np.array([-40, -10, 0, 8, 15, 22, 38]) # градусы цельсия\n",
    "f = np.array([-40, 14, 32, 46, 59, 72, 100]) # градусы фарингейта\n",
    "\n",
    "model = keras.Sequential() # создает модель нейронной многослойной сети\n",
    "# Добавление нейронов\n",
    "model.add(Dense(units=1, input_shape=(1,), activation='linear'))\n",
    "\n",
    "model.compile(loss='mean_squared_error', optimizer=keras.optimizers.Adam(0.1))\n",
    "              \n",
    "history = model.fit(c, f, epochs=500, verbose=False) # обучение нейронной сети\n",
    "print(\"Обучение завершено\")\n",
    "plt.plot(history.history['loss']) # 2й history - словарь, loss - критерий качества\n",
    "#, вычисленный для каждой эпохи\n",
    "plt.grid(True)\n",
    "plt.show()"
   ]
  },
  {
   "cell_type": "code",
   "execution_count": 16,
   "id": "11eebf9c-d733-46f8-8eba-78f2fa3652c1",
   "metadata": {},
   "outputs": [
    {
     "name": "stdout",
     "output_type": "stream",
     "text": [
      "[[211.28362]]\n"
     ]
    }
   ],
   "source": [
    "print(model.predict([100])) # ввод в модель каких-то данных, т.е её эксплуатация "
   ]
  },
  {
   "cell_type": "code",
   "execution_count": 17,
   "id": "9636d27b-a5ef-47cb-9872-17442eacbc58",
   "metadata": {},
   "outputs": [
    {
     "name": "stdout",
     "output_type": "stream",
     "text": [
      "[array([[1.8279725]], dtype=float32), array([28.486357], dtype=float32)]\n"
     ]
    }
   ],
   "source": [
    "print(model.get_weights()) # вернуть весовые коэффициенты"
   ]
  },
  {
   "cell_type": "code",
   "execution_count": null,
   "id": "907b857b-e152-499c-881a-28ea04b5c6e8",
   "metadata": {},
   "outputs": [],
   "source": []
  }
 ],
 "metadata": {
  "kernelspec": {
   "display_name": "Python 3 (ipykernel)",
   "language": "python",
   "name": "python3"
  },
  "language_info": {
   "codemirror_mode": {
    "name": "ipython",
    "version": 3
   },
   "file_extension": ".py",
   "mimetype": "text/x-python",
   "name": "python",
   "nbconvert_exporter": "python",
   "pygments_lexer": "ipython3",
   "version": "3.9.7"
  }
 },
 "nbformat": 4,
 "nbformat_minor": 5
}
