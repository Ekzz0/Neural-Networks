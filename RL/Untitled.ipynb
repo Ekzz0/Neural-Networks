{
 "cells": [
  {
   "cell_type": "code",
   "execution_count": 3,
   "id": "e33a92cc-45eb-418d-9f14-3539cf59cf23",
   "metadata": {},
   "outputs": [
    {
     "name": "stdout",
     "output_type": "stream",
     "text": [
      "\\i\n",
      "\\i\n",
      "\\i\n"
     ]
    }
   ],
   "source": [
    "for i in range(3):\n",
    "    U_f\"{i}\""
   ]
  },
  {
   "cell_type": "code",
   "execution_count": null,
   "id": "bdf7ffaa-339f-4f06-8a54-3107293c225a",
   "metadata": {},
   "outputs": [],
   "source": []
  }
 ],
 "metadata": {
  "kernelspec": {
   "display_name": "Python 3 (ipykernel)",
   "language": "python",
   "name": "python3"
  },
  "language_info": {
   "codemirror_mode": {
    "name": "ipython",
    "version": 3
   },
   "file_extension": ".py",
   "mimetype": "text/x-python",
   "name": "python",
   "nbconvert_exporter": "python",
   "pygments_lexer": "ipython3",
   "version": "3.9.7"
  }
 },
 "nbformat": 4,
 "nbformat_minor": 5
}
