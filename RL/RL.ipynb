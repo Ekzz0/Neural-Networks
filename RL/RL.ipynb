{
 "cells": [
  {
   "cell_type": "markdown",
   "metadata": {},
   "source": [
    "### Курс-интенсив [Машинное обучение](http://plyus.pw/ml2020), автор курса - Павел Плюснин\n",
    "Основа практики позаимствована у [Скрынника Алексея](https://www.hse.ru/staff/ask)"
   ]
  },
  {
   "cell_type": "markdown",
   "metadata": {},
   "source": [
    "Будем пользоваться стандартными средами, реализованными в библиотеке OpenAI Gym (https://gym.openai.com)."
   ]
  },
  {
   "cell_type": "code",
   "execution_count": 2,
   "metadata": {},
   "outputs": [
    {
     "name": "stderr",
     "output_type": "stream",
     "text": [
      "D:\\conda1\\lib\\site-packages\\pyglet\\image\\codecs\\wic.py:434: UserWarning: [WinError -2147417850] Изменение режима для потока после его установки невозможно\n",
      "  warnings.warn(str(err))\n"
     ]
    },
    {
     "data": {
      "image/png": "[encoded data removed]",
      "text/plain": [
       "<Figure size 432x288 with 1 Axes>"
      ]
     },
     "metadata": {
      "needs_background": "light"
     },
     "output_type": "display_data"
    }
   ],
   "source": [
    "import numpy as np\n",
    "import matplotlib.pyplot as plt\n",
    "%matplotlib inline\n",
    "import gym\n",
    "# создаем окружение\n",
    "env = gym.make(\"MountainCar-v0\")\n",
    "a = env.reset()\n",
    "# рисуем картинку\n",
    "#env.render('rgb_array')\n",
    "plt.imshow(env.render(mode='rgb_array'))\n",
    "env.close()"
   ]
  },
  {
   "cell_type": "markdown",
   "metadata": {},
   "source": [
    "### Интерфейс среды в OpenAI gym\n",
    "\n",
    "Основные методы класса Env:\n",
    "\\begin{itemize}\n",
    "    \\item reset() - инициализация окружения, возвращает первое наблюдение\n",
    "    \\item render() - визуализация текущего состояния среды\n",
    "    \\item step($a$) - выполнить в среде действие a и получить: new observation - новое наблюдение после выполнения действия $a$; reward - вознаграждение за выполненное действие $a$; $is\\_done$ - True, если процесс завершился, False иначе; $info$ - дополнительная информация\n",
    "\\end{itemize}"
   ]
  },
  {
   "cell_type": "code",
   "execution_count": 3,
   "metadata": {},
   "outputs": [
    {
     "name": "stdout",
     "output_type": "stream",
     "text": [
      "изначальное состояние среды: [-0.44625768  0.        ]\n",
      "новое состояние: [-4.4583255e-01  4.2513231e-04] вознаграждение -1.0\n"
     ]
    }
   ],
   "source": [
    "obs0 = env.reset() # начальное состояние - x,y - коорд-ы каретки\n",
    "print(\"изначальное состояние среды:\", obs0)\n",
    "# выполняем действие 2 \n",
    "new_obs, reward, is_done, _ = env.step(2)\n",
    "print(\"новое состояние:\", new_obs, \n",
    "      \"вознаграждение\", reward)"
   ]
  },
  {
   "cell_type": "code",
   "execution_count": 7,
   "metadata": {},
   "outputs": [
    {
     "name": "stdout",
     "output_type": "stream",
     "text": [
      "Успех!\n"
     ]
    }
   ],
   "source": [
    "def act(s): # s - массив координат\n",
    "    actions = {'left': 0, 'stop': 1, 'right': 2}\n",
    "    # в зависимости от полученного состояния среды \n",
    "    # выбираем действия так, чтобы тележка достигла флага\n",
    "    #action = actions['right']\n",
    "    action = actions['left'] if s[1] < 0 else actions[\"right\"]\n",
    "    return action\n",
    "\n",
    "# создаем окружение, с ограничением на число шагов в 249 (wrappers.TimeLimit)\n",
    "env = gym.wrappers.TimeLimit(\n",
    "    gym.make(\"MountainCar-v0\").unwrapped, # передаем сюда среду\n",
    "    max_episode_steps=250)\n",
    "# проводим инициализацию и запоминаем начальное состояние\n",
    "s = env.reset() \n",
    "done = False\n",
    "while not done:\n",
    "    # выполняем действие, получаем s, r, done\n",
    "    s, r, done, _ = env.step(act(s)) # делаем щаг по стратегии\n",
    "    # визуализируем окружение\n",
    "    env.render()\n",
    "\n",
    "env.close()\n",
    "if s[0] > 0.47:\n",
    "    print(\"Успех!\")\n",
    "else:\n",
    "    raise NotImplementedError(\"\"\"\n",
    "    Исправьте функцию выбора действия!\"\"\")"
   ]
  },
  {
   "cell_type": "markdown",
   "metadata": {},
   "source": [
    "## Q-обучение"
   ]
  },
  {
   "cell_type": "markdown",
   "metadata": {},
   "source": [
    "Одним из наиболее популярных алгоритм обучения на основе временных различий является Q-обучение. Агент, который принимает решения на основе $Q$-функции, не требует модель для обучения и выбора действий, т.е. такой агент также свободен от модели (model-free), как и TD-агент. Уравнение Беллмана для значения Q-функции в равновесии записывается как:\n",
    "\n",
    "$$Q(s,a)=r(s)+\\gamma\\sum_s'T(s,a,s')\\max_{a'}Q(a',s')$$"
   ]
  },
  {
   "cell_type": "markdown",
   "metadata": {},
   "source": [
    "Уравнение для итерационного обновления значений Q-функции выглядит следующим образом:\n",
    "$$Q(s,a)\\leftarrow Q(s,a)+\\alpha(r(s)+\\gamma\\max_{a'}Q(a',s') - Q(s,a)).$$"
   ]
  },
  {
   "cell_type": "markdown",
   "metadata": {},
   "source": [
    "Оформим этот алгоритм в виде класса QLearningAgent:"
   ]
  },
  {
   "cell_type": "code",
   "execution_count": 8,
   "metadata": {
    "tags": []
   },
   "outputs": [],
   "source": [
    "import random, math\n",
    "\n",
    "import numpy as np\n",
    "from collections import defaultdict\n",
    "\n",
    "\n",
    "class QLearningAgent():\n",
    "    \"\"\"\n",
    "    Q-Learning агент\n",
    "\n",
    "    Замечание: избегайте прямое использование \n",
    "    self._q_values, для этого определены \n",
    "    функции: get_q_value, set_q_value\n",
    "    \"\"\"\n",
    "\n",
    "    def __init__(self, alpha, epsilon, discount, get_legal_actions):\n",
    "        \n",
    "        self.get_legal_actions = get_legal_actions # действия, которые можно делать \n",
    "        self._q_values = \\\n",
    "            defaultdict(lambda: defaultdict(lambda: 0))   # матрица Q - словарь\n",
    "        # defaultdict - когда запрашиваем объект, которого нет - он возвращает \n",
    "        # стандартное значение. В данном случае это еще один словарь из нуля \n",
    "        self.alpha = alpha #\n",
    "        self.epsilon = epsilon # \n",
    "        self.discount = discount # штраф за действие (гамма)\n",
    "        \n",
    "\n",
    "    def get_q_value(self, state, action):\n",
    "        return self._q_values[state][action]\n",
    "    \n",
    "\n",
    "    def set_q_value(self, state, action, value):\n",
    "        self._q_values[state][action] = value"
   ]
  },
  {
   "cell_type": "markdown",
   "metadata": {},
   "source": [
    "Добавим нашему агенту возможность вычислять оценки $V$:"
   ]
  },
  {
   "cell_type": "code",
   "execution_count": 9,
   "metadata": {
    "tags": []
   },
   "outputs": [],
   "source": [
    "def get_value(self, state):\n",
    "    \"\"\"\n",
    "      Возвращает значение функции полезности, \n",
    "      рассчитанной по Q[state, action], \n",
    "    \"\"\"\n",
    "    possible_actions = self.get_legal_actions(state)\n",
    "    value = max([self.get_q_value(state, action) for action in possible_actions])\n",
    "    # Максимальное Q_value для всех возможных действий, которое можно совершить\n",
    "    return value\n",
    "\n",
    "QLearningAgent.get_value = get_value"
   ]
  },
  {
   "cell_type": "markdown",
   "metadata": {},
   "source": [
    "Стратегия нашего агента будет заключаться в выборе лучшего действия, в соответствии с оценками $Q$:"
   ]
  },
  {
   "cell_type": "code",
   "execution_count": 10,
   "metadata": {
    "tags": []
   },
   "outputs": [],
   "source": [
    "def get_policy(self, state):\n",
    "    \"\"\"\n",
    "      Выбирает лучшее действие, согласно стратегии.\n",
    "    \"\"\"\n",
    "    possible_actions = self.get_legal_actions(state)\n",
    "    \n",
    "    # выбираем лучшее действие, согласно стратегии\n",
    "    best_action = None\n",
    "    for action in possible_actions:\n",
    "        if best_action is None:\n",
    "            best_action = action\n",
    "        elif self.get_q_value(state, action) > self.get_q_value(state, best_action):\n",
    "            best_action = action\n",
    "       \n",
    "    return best_action\n",
    "\n",
    "QLearningAgent.get_policy = get_policy"
   ]
  },
  {
   "cell_type": "markdown",
   "metadata": {},
   "source": [
    "Для конкретной ситуации мы будем выбирать действие, используя $\\epsilon$-жадный подход:"
   ]
  },
  {
   "cell_type": "code",
   "execution_count": 11,
   "metadata": {
    "tags": []
   },
   "outputs": [],
   "source": [
    "def get_action(self, state): # epsilon - greedy stategy \n",
    "    \"\"\"\n",
    "      Выбирает действие, предпринимаемое в данном \n",
    "      состоянии, включая исследование (eps greedy)\n",
    "      С вероятностью self.epsilon берем случайное \n",
    "      действие, иначе действие согласно стратегии \n",
    "      (self.get_policy)\n",
    "    \"\"\"\n",
    "    possible_actions = self.get_legal_actions(state)\n",
    "\n",
    "    # выбираем действие, используя eps-greedy подход\n",
    "    if np.random.random() < self.epsilon:\n",
    "        action = np.random.choice(possible_actions, 1)[0]\n",
    "    else:\n",
    "        action = self.get_policy(state)\n",
    "        \n",
    "    return action\n",
    "\n",
    "QLearningAgent.get_action = get_action"
   ]
  },
  {
   "cell_type": "code",
   "execution_count": 12,
   "metadata": {
    "tags": []
   },
   "outputs": [],
   "source": [
    "def update(self, state, action, next_state, reward):\n",
    "    \"\"\"\n",
    "      функция Q-обновления \n",
    "    \"\"\"\n",
    "    # выполняем Q-обновление, \n",
    "    # используем методы getQValue и setQValue\n",
    "    t = self.alpha*(reward + self.discount*self.get_value(next_state) - self.get_q_value(state, action))\n",
    "    reference_qvalue = self.get_q_value(state, action) + t\n",
    "    self.set_q_value(state, action, reference_qvalue)\n",
    "    \n",
    "QLearningAgent.update = update"
   ]
  },
  {
   "cell_type": "markdown",
   "metadata": {},
   "source": [
    "Тестируем нашего агента на задаче Taxi"
   ]
  },
  {
   "cell_type": "code",
   "execution_count": 14,
   "metadata": {
    "tags": []
   },
   "outputs": [],
   "source": [
    "import gym\n",
    "env = gym.make(\"Taxi-v3\")\n",
    "\n",
    "n_actions = env.action_space.n"
   ]
  },
  {
   "cell_type": "code",
   "execution_count": 15,
   "metadata": {
    "tags": []
   },
   "outputs": [],
   "source": [
    "def play_and_train(env, agent, t_max=10**4):\n",
    "    \"\"\"функция запускает полную игру,\n",
    "    используя стратегию агента (agent.get_action(s))\n",
    "    выполняет обновление агента (agent.update(...))\n",
    "    и возвращает общее вознаграждение\n",
    "    \"\"\"\n",
    "    total_reward = 0.0\n",
    "    s = env.reset()\n",
    "    \n",
    "    for t in range(t_max):\n",
    "        # выбираем действие\n",
    "        a = agent.get_action(s)\n",
    "        next_s, r, done, _ = env.step(a)\n",
    "        \n",
    "        # выполняем обновление стратегии\n",
    "        agent.update(s, a, next_s, r)\n",
    "        \n",
    "        s = next_s\n",
    "        total_reward +=r\n",
    "        if done:\n",
    "            break\n",
    "        \n",
    "    return total_reward"
   ]
  },
  {
   "cell_type": "code",
   "execution_count": 18,
   "metadata": {},
   "outputs": [
    {
     "name": "stdout",
     "output_type": "stream",
     "text": [
      "eps = 0.1 mean reward = 4.2\n",
      "alpha= 0.5\n"
     ]
    },
    {
     "data": {
      "image/png": "[encoded data removed]",
      "text/plain": [
       "<Figure size 432x288 with 1 Axes>"
      ]
     },
     "metadata": {
      "needs_background": "light"
     },
     "output_type": "display_data"
    }
   ],
   "source": [
    "import matplotlib.pyplot as plt\n",
    "%matplotlib inline\n",
    "from IPython.display import clear_output\n",
    "\n",
    "agent = QLearningAgent(alpha=0.5, epsilon=0.1,\n",
    "                       discount=0.9,\n",
    "                       get_legal_actions=lambda s: range(\n",
    "                           n_actions))\n",
    "\n",
    "assert 'get_policy' in dir(agent)\n",
    "rewards = []\n",
    "for i in range(5000):\n",
    "    rewards.append(play_and_train(env, agent))\n",
    "\n",
    "    if i % 100 == 0:\n",
    "        clear_output(True)\n",
    "        print('eps =', agent.epsilon,\n",
    "              'mean reward =', np.mean(rewards[-10:]))\n",
    "        print(\"alpha=\", agent.alpha)\n",
    "        plt.plot(rewards)\n",
    "        plt.show()"
   ]
  },
  {
   "cell_type": "code",
   "execution_count": 19,
   "metadata": {},
   "outputs": [
    {
     "name": "stdout",
     "output_type": "stream",
     "text": [
      "+---------+\n",
      "|R: | : :\u001b[35mG\u001b[0m|\n",
      "| : |\u001b[43m \u001b[0m: : |\n",
      "| : : : : |\n",
      "| | : | : |\n",
      "|Y| : |\u001b[34;1mB\u001b[0m: |\n",
      "+---------+\n",
      "  (South)\n",
      "+---------+\n",
      "|R: | : :\u001b[35mG\u001b[0m|\n",
      "| : | : : |\n",
      "| : :\u001b[43m \u001b[0m: : |\n",
      "| | : | : |\n",
      "|Y| : |\u001b[34;1mB\u001b[0m: |\n",
      "+---------+\n",
      "  (South)\n",
      "+---------+\n",
      "|R: | : :\u001b[35mG\u001b[0m|\n",
      "| : | : : |\n",
      "| : : :\u001b[43m \u001b[0m: |\n",
      "| | : | : |\n",
      "|Y| : |\u001b[34;1mB\u001b[0m: |\n",
      "+---------+\n",
      "  (East)\n",
      "+---------+\n",
      "|R: | : :\u001b[35mG\u001b[0m|\n",
      "| : | : : |\n",
      "| : : : : |\n",
      "| | : |\u001b[43m \u001b[0m: |\n",
      "|Y| : |\u001b[34;1mB\u001b[0m: |\n",
      "+---------+\n",
      "  (South)\n",
      "+---------+\n",
      "|R: | : :\u001b[35mG\u001b[0m|\n",
      "| : | : : |\n",
      "| : : : : |\n",
      "| | : | : |\n",
      "|Y| : |\u001b[34;1m\u001b[43mB\u001b[0m\u001b[0m: |\n",
      "+---------+\n",
      "  (South)\n",
      "+---------+\n",
      "|R: | : :\u001b[35mG\u001b[0m|\n",
      "| : | : : |\n",
      "| : : : : |\n",
      "| | : | : |\n",
      "|Y| : |\u001b[42mB\u001b[0m: |\n",
      "+---------+\n",
      "  (Pickup)\n",
      "+---------+\n",
      "|R: | : :\u001b[35mG\u001b[0m|\n",
      "| : | : : |\n",
      "| : : : : |\n",
      "| | : |\u001b[42m_\u001b[0m: |\n",
      "|Y| : |B: |\n",
      "+---------+\n",
      "  (North)\n",
      "+---------+\n",
      "|R: | : :\u001b[35mG\u001b[0m|\n",
      "| : | : : |\n",
      "| : : :\u001b[42m_\u001b[0m: |\n",
      "| | : | : |\n",
      "|Y| : |B: |\n",
      "+---------+\n",
      "  (North)\n",
      "+---------+\n",
      "|R: | : :\u001b[35mG\u001b[0m|\n",
      "| : | :\u001b[42m_\u001b[0m: |\n",
      "| : : : : |\n",
      "| | : | : |\n",
      "|Y| : |B: |\n",
      "+---------+\n",
      "  (North)\n",
      "+---------+\n",
      "|R: | : :\u001b[35mG\u001b[0m|\n",
      "| : | : :\u001b[42m_\u001b[0m|\n",
      "| : : : : |\n",
      "| | : | : |\n",
      "|Y| : |B: |\n",
      "+---------+\n",
      "  (East)\n",
      "+---------+\n",
      "|R: | : :\u001b[35m\u001b[42mG\u001b[0m\u001b[0m|\n",
      "| : | : : |\n",
      "| : : : : |\n",
      "| | : | : |\n",
      "|Y| : |B: |\n",
      "+---------+\n",
      "  (North)\n"
     ]
    },
    {
     "data": {
      "text/plain": [
       "9.0"
      ]
     },
     "execution_count": 19,
     "metadata": {},
     "output_type": "execute_result"
    }
   ],
   "source": [
    "total_reward = 0.0\n",
    "s = env.reset()\n",
    "    \n",
    "for t in range(1000):\n",
    "    # выбираем действие\n",
    "    a = agent.get_action(s)\n",
    "    next_s, r, done, _ = env.step(a)\n",
    "        \n",
    "    s = next_s\n",
    "    total_reward +=r\n",
    "    if done:\n",
    "         break\n",
    "    \n",
    "    env.render()\n",
    "total_reward"
   ]
  },
  {
   "attachments": {
    "image.png": {
     "image/png": "[encoded data removed]"
    }
   },
   "cell_type": "markdown",
   "metadata": {},
   "source": [
    "## Deep Q-Network\n",
    "\n",
    "Схема обучения алгоритма DQN изображена на рисунке: \n",
    "![image.png](attachment:image.png)\n",
    "\n",
    "Ключевыми отличиями от обычной аппроксимации нейронной сетью являются два новых элемента: replay buffer и target network.\n",
    "\n",
    "#### 1. Replay buffer\n",
    "Хранит информацию, которую получал агент во время взаимодействия со средой. Позволяет случайно сэмплировать эту информацию в виде кортежей: $<S_{t-1}, a_{t-1}, r_{t-1}, s_{t}, {done}>$.\n",
    "\n",
    "#### 2. Target Network $Q_{\\theta}^{target}$\n",
    "Используется для вычисления loss функции Policy Net. \n",
    "$$L = { 1 \\over N} \\sum_i (Q_{\\theta}(s,a) - [r(s,a) + \\gamma \\cdot max_{a'} Q_{\\theta}^{target}(s', a')]) ^2.$$\n",
    "Каждые $N$ шагов обновляется весами $Q_{\\theta}$.\n",
    "\n",
    "#### 3. Policy Net $Q_{\\theta}$\n",
    "Используется для взаимодействия с окружением. Обучается используя накопленный в Replay Buffer опыт.\n"
   ]
  },
  {
   "cell_type": "code",
   "execution_count": 20,
   "metadata": {},
   "outputs": [
    {
     "name": "stdout",
     "output_type": "stream",
     "text": [
      "device: cpu\n"
     ]
    }
   ],
   "source": [
    "# импортируем необходимые библиотеки\n",
    "\n",
    "import gym\n",
    "import collections\n",
    "import random\n",
    "\n",
    "import torch\n",
    "import torch.nn as nn\n",
    "import torch.nn.functional as F\n",
    "import torch.optim as optim\n",
    "\n",
    "# если видеокарта доступна, то будем ее использовать\n",
    "device = torch.device(\"cuda\" if torch.cuda.is_available() else \"cpu\")\n",
    "print(\"device:\", device)"
   ]
  },
  {
   "cell_type": "code",
   "execution_count": 13,
   "metadata": {
    "collapsed": true,
    "jupyter": {
     "outputs_hidden": true
    }
   },
   "outputs": [],
   "source": [
    "# определяем класс Q-Network\n",
    "\n",
    "class QNetwork(nn.Module):\n",
    "    def __init__(self):\n",
    "        \"\"\"\n",
    "        определение сети\n",
    "        \"\"\"\n",
    "        super().__init__()\n",
    "        \n",
    "        self.fc1 = nn.Linear(4, 256)\n",
    "        self.fc2 = nn.Linear(256, 2)\n",
    "\n",
    "    def forward(self, x):\n",
    "        \"\"\"\n",
    "        определение графа вычислений\n",
    "        :param x: вход\n",
    "        :return: \n",
    "        \"\"\"\n",
    "        x = F.relu(self.fc1(x))\n",
    "        x = self.fc2(x)\n",
    "        return x\n",
    "\n",
    "    def sample_action(self, obs, epsilon):\n",
    "        \"\"\"\n",
    "        сэмплирование действия\n",
    "        :param obs: \n",
    "        :param epsilon: \n",
    "        :return: \n",
    "        \"\"\"\n",
    "        out = self.forward(obs)\n",
    "        coin = random.random()\n",
    "        if coin < epsilon:\n",
    "            return random.randint(0, 1)\n",
    "        else:\n",
    "            return out.argmax().item()"
   ]
  },
  {
   "cell_type": "markdown",
   "metadata": {},
   "source": [
    "### Реализуйте методы класса ReplayBuffer"
   ]
  },
  {
   "cell_type": "code",
   "execution_count": 14,
   "metadata": {
    "collapsed": true,
    "jupyter": {
     "outputs_hidden": true
    }
   },
   "outputs": [],
   "source": [
    "class ReplayBuffer():\n",
    "\n",
    "    def __init__(self, max_size):\n",
    "        \"\"\"\n",
    "        создаем структуру для хранения данных\n",
    "        \"\"\"\n",
    "        #~~~~~~~~ Ваш код здесь ~~~~~~~~~~~        \n",
    "        raise NotImplementedError        \n",
    "        #~~~~~~~~~~~~~~~~~~~~~~~~~~~~~~~~~~\n",
    "        \n",
    "\n",
    "    def put(self, transition):\n",
    "        \"\"\"\n",
    "        помещаем данные в replay buffer\n",
    "        :param transition: (s, a, r, next_s, done_mask)\n",
    "        :return:\n",
    "        \"\"\"\n",
    "        #~~~~~~~~ Ваш код здесь ~~~~~~~~~~~        \n",
    "        raise NotImplementedError        \n",
    "        #~~~~~~~~~~~~~~~~~~~~~~~~~~~~~~~~~~\n",
    "        \n",
    "\n",
    "    def sample(self, n):\n",
    "        \"\"\"\n",
    "        сэмплируем батч заданного размера\n",
    "        :param n: размер мини-батча\n",
    "        :return:\n",
    "        \"\"\"\n",
    "        s_lst, a_lst, r_lst, s_prime_lst, done_mask_lst = [], [], [], [], []\n",
    "\n",
    "        # сэмплируем случайный батч и заполняем s_lst, a_lst, r_lst, s_prime_lst, done_mask_lst\n",
    "        #~~~~~~~~ Ваш код здесь ~~~~~~~~~~~        \n",
    "        raise NotImplementedError        \n",
    "        #~~~~~~~~~~~~~~~~~~~~~~~~~~~~~~~~~~\n",
    "        \n",
    "\n",
    "        return torch.tensor(s_lst, dtype=torch.float), torch.tensor(a_lst), \\\n",
    "               torch.tensor(r_lst), torch.tensor(s_prime_lst, dtype=torch.float), \\\n",
    "               torch.tensor(done_mask_lst)\n",
    "\n",
    "    def __len__(self):\n",
    "        \"\"\"\n",
    "        возвращает размер replay buffer'а\n",
    "        :return: len(replay_buffer)\n",
    "        \"\"\"\n",
    "        #~~~~~~~~ Ваш код здесь ~~~~~~~~~~~        \n",
    "        raise NotImplementedError        \n",
    "        #~~~~~~~~~~~~~~~~~~~~~~~~~~~~~~~~~~"
   ]
  },
  {
   "cell_type": "code",
   "execution_count": 16,
   "metadata": {
    "collapsed": true,
    "jupyter": {
     "outputs_hidden": true
    }
   },
   "outputs": [],
   "source": [
    "def train(q, q_target, replay_buffer, optimizer, batch_size, gamma, updates_number=10):\n",
    "    \"\"\"\n",
    "    тренируем нашу архитектуру\n",
    "    :param q: policy сеть\n",
    "    :param q_target: target сеть\n",
    "    :param replay_buffer:\n",
    "    :param optimizer:\n",
    "    :param batch_size: размер мини-батча\n",
    "    :param gamma: дисконтирующий множитель\n",
    "    :param updates_number: количество обновлений, которые необходимо выполнить\n",
    "    :return:\n",
    "    \"\"\"\n",
    "    for i in range(updates_number):\n",
    "        # сэмплируем мини-батч из replay buffer'а\n",
    "        s, a, r, s_prime, done_mask = replay_buffer.sample(batch_size)\n",
    "\n",
    "        # получаем полезность, для выбранного действия q сети\n",
    "        q_out = q(s)\n",
    "        q_a = q_out.gather(1, a)\n",
    "\n",
    "        # получаем значение max_q target сети и считаем значение target\n",
    "        max_q_prime = q_target(s_prime).max(1)[0].unsqueeze(1)\n",
    "        target = r + gamma * max_q_prime * done_mask\n",
    "\n",
    "        # определяем loss функцию, для q!\n",
    "        loss = F.smooth_l1_loss(q_a, target.detach())\n",
    "\n",
    "        optimizer.zero_grad()\n",
    "        loss.backward()\n",
    "        optimizer.step()"
   ]
  },
  {
   "cell_type": "code",
   "execution_count": 17,
   "metadata": {
    "collapsed": true,
    "jupyter": {
     "outputs_hidden": true
    }
   },
   "outputs": [],
   "source": [
    "def run(learning_rate, gamma, buffer_max_size, batch_size, target_update_interval,\n",
    "        replay_buffer_start_size, print_interval=20, n_episodes=2000):\n",
    "    # создаем окружение\n",
    "    env = gym.make('CartPole-v1')\n",
    "\n",
    "    # создаем q и target_q\n",
    "    q = QNetwork()\n",
    "    q_target = QNetwork()\n",
    "\n",
    "    # копируем веса q в target_q\n",
    "    q_target.load_state_dict(q.state_dict())\n",
    "\n",
    "    # создаем replay buffer\n",
    "    replay_buffer = ReplayBuffer(max_size=buffer_max_size)\n",
    "\n",
    "    score = 0.0\n",
    "\n",
    "    # инициализируем оптимизатор, полученным lr\n",
    "    optimizer = optim.Adam(q.parameters(), lr=learning_rate)\n",
    "\n",
    "    for n_epi in range(n_episodes):\n",
    "\n",
    "        # постепенно изменяем eps с 8% до 1%\n",
    "        epsilon = max(0.01, 0.08 - 0.01 * (n_epi / 200))\n",
    "\n",
    "        s = env.reset()\n",
    "\n",
    "        # выполянем 600 шагов в окружении и сохраняем, полученные данные\n",
    "        for t in range(600):\n",
    "\n",
    "            # получаем действие, используя сеть q\n",
    "            a = q.sample_action(torch.from_numpy(s).float(), epsilon)\n",
    "\n",
    "            # выполняем действие в окружении\n",
    "            s_prime, r, done, info = env.step(a)\n",
    "\n",
    "            # добавляем данные в replay buffer\n",
    "            done_mask = 0.0 if done else 1.0\n",
    "            \n",
    "            # сжимаем вознаграждения и добавляем в replay buffer\n",
    "            replay_buffer.put((s, a, r / 100.0, s_prime, done_mask))\n",
    "\n",
    "            s = s_prime\n",
    "\n",
    "            score += r\n",
    "\n",
    "            if done:\n",
    "                break\n",
    "\n",
    "        if len(replay_buffer) > replay_buffer_start_size:\n",
    "            train(q, q_target, replay_buffer, optimizer, batch_size, gamma)\n",
    "\n",
    "        if n_epi % target_update_interval == 0 and n_epi != 0:\n",
    "            q_target.load_state_dict(q.state_dict())\n",
    "\n",
    "        if n_epi % print_interval == 0 and n_epi != 0:\n",
    "            print(\"# of episode :{}, avg score : {:.1f}, buffer size : {}, epsilon : {:.1f}%\".format(\n",
    "                n_epi, score / print_interval, len(replay_buffer), epsilon * 100))\n",
    "            score = 0.0\n",
    "    env.close()"
   ]
  },
  {
   "cell_type": "code",
   "execution_count": 1,
   "metadata": {},
   "outputs": [
    {
     "ename": "NameError",
     "evalue": "name 'run' is not defined",
     "output_type": "error",
     "traceback": [
      "\u001b[1;31m---------------------------------------------------------------------------\u001b[0m",
      "\u001b[1;31mNameError\u001b[0m                                 Traceback (most recent call last)",
      "\u001b[1;32m~\\AppData\\Local\\Temp/ipykernel_175864/4195429045.py\u001b[0m in \u001b[0;36m<module>\u001b[1;34m\u001b[0m\n\u001b[0;32m      1\u001b[0m \u001b[1;31m# определяем гиперпараметры\u001b[0m\u001b[1;33m\u001b[0m\u001b[1;33m\u001b[0m\u001b[0m\n\u001b[1;32m----> 2\u001b[1;33m run(learning_rate=0.0005,\n\u001b[0m\u001b[0;32m      3\u001b[0m     \u001b[0mgamma\u001b[0m\u001b[1;33m=\u001b[0m\u001b[1;36m0.98\u001b[0m\u001b[1;33m,\u001b[0m\u001b[1;33m\u001b[0m\u001b[1;33m\u001b[0m\u001b[0m\n\u001b[0;32m      4\u001b[0m     \u001b[0mbuffer_max_size\u001b[0m\u001b[1;33m=\u001b[0m\u001b[1;36m50000\u001b[0m\u001b[1;33m,\u001b[0m\u001b[1;33m\u001b[0m\u001b[1;33m\u001b[0m\u001b[0m\n\u001b[0;32m      5\u001b[0m     \u001b[0mbatch_size\u001b[0m\u001b[1;33m=\u001b[0m\u001b[1;36m32\u001b[0m\u001b[1;33m,\u001b[0m\u001b[1;33m\u001b[0m\u001b[1;33m\u001b[0m\u001b[0m\n",
      "\u001b[1;31mNameError\u001b[0m: name 'run' is not defined"
     ]
    }
   ],
   "source": [
    "# определяем гиперпараметры\n",
    "run(learning_rate=0.0005,\n",
    "    gamma=0.98,\n",
    "    buffer_max_size=50000,\n",
    "    batch_size=32,\n",
    "    target_update_interval=10,\n",
    "    replay_buffer_start_size=2000)"
   ]
  }
 ],
 "metadata": {
  "kernelspec": {
   "display_name": "Python 3 (ipykernel)",
   "language": "python",
   "name": "python3"
  },
  "language_info": {
   "codemirror_mode": {
    "name": "ipython",
    "version": 3
   },
   "file_extension": ".py",
   "mimetype": "text/x-python",
   "name": "python",
   "nbconvert_exporter": "python",
   "pygments_lexer": "ipython3",
   "version": "3.9.13"
  }
 },
 "nbformat": 4,
 "nbformat_minor": 4
}
